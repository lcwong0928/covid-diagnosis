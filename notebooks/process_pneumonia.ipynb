{
 "cells": [
  {
   "cell_type": "code",
   "execution_count": 1,
   "metadata": {},
   "outputs": [],
   "source": [
    "import numpy as np\n",
    "import pandas as pd\n",
    "import os\n",
    "import matplotlib.pyplot as plt\n",
    "import glob\n",
    "import pydicom\n",
    "import cv2\n",
    "import pickle\n",
    "from sklearn.decomposition import PCA\n",
    "import tensorflow as tf\n",
    "from tensorflow.keras import backend as K\n",
    "from tensorflow.keras.preprocessing.image import ImageDataGenerator\n",
    "from sklearn.manifold import TSNE\n",
    "import pickle"
   ]
  },
  {
   "cell_type": "markdown",
   "metadata": {},
   "source": [
    "Prepares PNEUMONIA Images as Inputs for Models."
   ]
  },
  {
   "cell_type": "code",
   "execution_count": null,
   "metadata": {},
   "outputs": [],
   "source": [
    "# Separate bacteria and viral pneumonia\n",
    "for file in os.listdir('data/binary/pneumonia'):\n",
    "    path = 'data/binary/pneumonia/{}'.format(file)\n",
    "    if 'bacteria' in file:\n",
    "        shutil.move(path, BPNEUMONIA_PATH)\n",
    "    elif 'virus' in file:\n",
    "        shutil.move(path, VPNEUMONIA_PATH)\n",
    "    else:\n",
    "        print(file)"
   ]
  },
  {
   "cell_type": "code",
   "execution_count": 23,
   "metadata": {},
   "outputs": [],
   "source": [
    "# Clip dataset to balance classes\n",
    "def remove_extra(PATH):\n",
    "    record = set()\n",
    "    i = 1\n",
    "    for file in os.listdir(PATH):\n",
    "        person = file.split('_')[0]\n",
    "        if person not in record:\n",
    "            record.add(person)\n",
    "        else:\n",
    "            os.remove(PATH + '/' + file)\n",
    "        if i >= 400:\n",
    "            os.remove(PATH + '/' + file)\n",
    "        i += 1\n",
    "remove_extra(BPNEUMONIA_PATH)\n",
    "remove_extra(VPNEUMONIA_PATH)   "
   ]
  },
  {
   "cell_type": "code",
   "execution_count": 3,
   "metadata": {},
   "outputs": [],
   "source": [
    "BPNEUMONIA_PATH = 'data/binary/bpneumonia'\n",
    "ENHANCED_BPNEUMONIA_PATH  = 'data/binary/enhanced_bpneumonia'\n",
    "FINAL_BPNEUMONIA_PATH = 'data/binary/final_bpneumonia'\n",
    "BPNEUMONIA_SOURCES = ['chest_bpneumonia']\n",
    "VPNEUMONIA_PATH = 'data/binary/vpneumonia'\n",
    "ENHANCED_VPNEUMONIA_PATH  = 'data/binary/enhanced_vpneumonia'\n",
    "FINAL_VPNEUMONIA_PATH = 'data/binary/final_vpneumonia'\n",
    "VPNEUMONIA_SOURCES = ['chest_vpneumonia']\n",
    "IMAGE_SIZE = (224, 224)"
   ]
  },
  {
   "cell_type": "code",
   "execution_count": 4,
   "metadata": {},
   "outputs": [],
   "source": [
    "# Make folders needed\n",
    "def mkdir(PATH): \n",
    "    if not os.path.exists(PATH): os.mkdir(PATH)\n",
    "mkdir(BPNEUMONIA_PATH) \n",
    "mkdir(ENHANCED_BPNEUMONIA_PATH) \n",
    "mkdir(FINAL_BPNEUMONIA_PATH) \n",
    "mkdir(VPNEUMONIA_PATH) \n",
    "mkdir(ENHANCED_VPNEUMONIA_PATH) \n",
    "mkdir(FINAL_VPNEUMONIA_PATH) "
   ]
  },
  {
   "cell_type": "markdown",
   "metadata": {},
   "source": [
    "CLAHE Enhancing Reference\n",
    "\n",
    "https://www.kaggle.com/seriousran/image-pre-processing-for-chest-x-ray?fbclid=IwAR0xYBmOLyPju9lelFGg0tKekpOmuoTu5haveUQsWrwRTS69Rj_hhymN1XE\n",
    "\n",
    "The following process is repeated for both bacterial and viral "
   ]
  },
  {
   "cell_type": "code",
   "execution_count": 7,
   "metadata": {},
   "outputs": [],
   "source": [
    "clahe = cv2.createCLAHE(clipLimit=2.0, tileGridSize=(16, 16))\n",
    "for source in VPNEUMONIA_SOURCES:\n",
    "    num = 0\n",
    "    for file_path in glob.glob(os.path.join(VPNEUMONIA_PATH, source) + '/*.jpeg'):\n",
    "        img = cv2.imread(file_path, 0)\n",
    "        img_clahe = clahe.apply(img)\n",
    "        path = os.path.join(ENHANCED_VPNEUMONIA_PATH, source)\n",
    "        if not os.path.exists(path): os.mkdir(path)\n",
    "        cv2.imwrite('{}/{}_{}.jpeg'.format(path, source, num), img_clahe)\n",
    "        num += 1"
   ]
  },
  {
   "cell_type": "markdown",
   "metadata": {},
   "source": [
    "DataGenerator to rotate, shear, zoom, rescale, and fit input shape"
   ]
  },
  {
   "cell_type": "code",
   "execution_count": 10,
   "metadata": {},
   "outputs": [
    {
     "name": "stdout",
     "output_type": "stream",
     "text": [
      "Found 400 images belonging to 1 classes.\n"
     ]
    }
   ],
   "source": [
    "datagen = ImageDataGenerator(rescale=1./255,\n",
    "                             featurewise_center = True,\n",
    "                             featurewise_std_normalization = True,\n",
    "                             width_shift_range=0.05,\n",
    "                             height_shift_range=0.05,\n",
    "                             shear_range=0.1,\n",
    "                             zoom_range=0.05,\n",
    "                             zca_whitening = True,\n",
    "                             channel_shift_range = 0,\n",
    "                             horizontal_flip = True,\n",
    "                             vertical_flip = False,\n",
    "                             validation_split = 0.2,\n",
    "                             fill_mode='constant')\n",
    "\n",
    "processed_pneumonia = datagen.flow_from_directory(ENHANCED_VPNEUMONIA_PATH,\n",
    "                                               target_size=IMAGE_SIZE,\n",
    "                                               shuffle=False,\n",
    "                                               batch_size=1000,\n",
    "                                               class_mode=\"categorical\")"
   ]
  },
  {
   "cell_type": "code",
   "execution_count": 11,
   "metadata": {},
   "outputs": [
    {
     "name": "stderr",
     "output_type": "stream",
     "text": [
      "/Users/lcwong/opt/anaconda3/envs/py37/lib/python3.7/site-packages/keras_preprocessing/image/image_data_generator.py:716: UserWarning: This ImageDataGenerator specifies `featurewise_center`, but it hasn't been fit on any training data. Fit it first by calling `.fit(numpy_data)`.\n",
      "  warnings.warn('This ImageDataGenerator specifies '\n",
      "/Users/lcwong/opt/anaconda3/envs/py37/lib/python3.7/site-packages/keras_preprocessing/image/image_data_generator.py:735: UserWarning: This ImageDataGenerator specifies `zca_whitening`, but it hasn't been fit on any training data. Fit it first by calling `.fit(numpy_data)`.\n",
      "  warnings.warn('This ImageDataGenerator specifies '\n"
     ]
    }
   ],
   "source": [
    "# Grabs the dataset in matrix format X:(485, 224, 224, 3), y:(485,)\n",
    "def batch_and_label(processed):\n",
    "    for x_batches, y_batches in processed:\n",
    "        X, y = x_batches, y_batches\n",
    "        break\n",
    "    return X, y\n",
    "X, y = batch_and_label(processed_pneumonia)"
   ]
  },
  {
   "cell_type": "code",
   "execution_count": 53,
   "metadata": {},
   "outputs": [],
   "source": [
    "# Saves the final output images\n",
    "for i in range(len(X)):\n",
    "    plt.imsave(os.path.join(FINAL_VPNEUMONIA_PATH, 'vpneumonia_{}.jpeg'.format(i)), X[i])\n",
    "    \n",
    "# Save dataset\n",
    "pickle.dump(X, open(\"pickled_data/vpneumonia.pkl\", \"wb\" ) )"
   ]
  },
  {
   "cell_type": "markdown",
   "metadata": {},
   "source": [
    "No need for PCA/TSNE since they all come from the same data source"
   ]
  },
  {
   "cell_type": "code",
   "execution_count": null,
   "metadata": {},
   "outputs": [],
   "source": []
  }
 ],
 "metadata": {
  "kernelspec": {
   "display_name": "Python 3",
   "language": "python",
   "name": "python3"
  },
  "language_info": {
   "codemirror_mode": {
    "name": "ipython",
    "version": 3
   },
   "file_extension": ".py",
   "mimetype": "text/x-python",
   "name": "python",
   "nbconvert_exporter": "python",
   "pygments_lexer": "ipython3",
   "version": "3.7.5"
  }
 },
 "nbformat": 4,
 "nbformat_minor": 2
}
