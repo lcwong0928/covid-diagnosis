{
 "cells": [
  {
   "cell_type": "code",
   "execution_count": 2,
   "metadata": {},
   "outputs": [],
   "source": [
    "import numpy as np\n",
    "import pandas as pd\n",
    "import os\n",
    "import shutil\n",
    "from PIL import Image\n",
    "from io import BytesIO"
   ]
  },
  {
   "cell_type": "markdown",
   "metadata": {},
   "source": [
    "Filters for posterior anterior images and bins by respiratory diseases based on metadata provided by the Github dataset. Additionally converts images to JPEG format.\n",
    "\n",
    "Source: https://github.com/ieee8023/covid-chestxray-dataset"
   ]
  },
  {
   "cell_type": "code",
   "execution_count": 12,
   "metadata": {},
   "outputs": [
    {
     "name": "stdout",
     "output_type": "stream",
     "text": [
      "['patientid' 'offset' 'sex' 'age' 'finding' 'survival' 'intubated'\n",
      " 'intubation_present' 'went_icu' 'needed_supplemental_O2' 'extubated'\n",
      " 'temperature' 'pO2_saturation' 'leukocyte_count' 'neutrophil_count'\n",
      " 'lymphocyte_count' 'view' 'modality' 'date' 'location' 'folder'\n",
      " 'filename' 'doi' 'url' 'license' 'clinical_notes' 'other_notes'\n",
      " 'Unnamed: 27']\n",
      "['COVID-19' 'ARDS' 'SARS' 'Pneumocystis' 'Streptococcus' 'No Finding'\n",
      " 'Chlamydophila' 'E.Coli' 'COVID-19, ARDS' 'Klebsiella' 'Legionella']\n"
     ]
    }
   ],
   "source": [
    "# Load and explore metadata\n",
    "df = pd.read_csv('data/github/metadata.csv')\n",
    "columns = df.columns.values\n",
    "disease_types = df.finding.unique()\n",
    "\n",
    "print(columns)\n",
    "print(disease_types)"
   ]
  },
  {
   "cell_type": "code",
   "execution_count": 14,
   "metadata": {},
   "outputs": [],
   "source": [
    "# Make folders and add all PA images\n",
    "master_dir = 'data/master'\n",
    "source_dir = 'data/github/images'\n",
    "for class_type in disease_types:\n",
    "    master_path = os.path.join(master_dir, class_type)\n",
    "    if not os.path.isdir(master_path):\n",
    "        os.mkdir(master_path)\n",
    "    for index, row in df.iterrows():\n",
    "        if row['finding'] == class_type and row['view'] == 'PA':\n",
    "            source_path = os.path.join(source_dir, row['filename'])\n",
    "            shutil.copy(source_path, master_path)\n",
    "            "
   ]
  },
  {
   "cell_type": "code",
   "execution_count": 15,
   "metadata": {},
   "outputs": [],
   "source": [
    "# Convert png into jpeg\n",
    "for class_type in df.finding.unique():\n",
    "    master_path = os.path.join(master_dir, class_type)\n",
    "    for image in os.listdir(master_path):\n",
    "        image_path = os.path.join(master_path, image)\n",
    "        \n",
    "        if \".png\" in image or \".jpg\" in image:\n",
    "            ima = Image.open(image_path)\n",
    "            rgb_im = ima.convert('RGB')\n",
    "            rgb_im.save(image_path[:-3] + 'jpeg')\n",
    "            os.remove(image_path)\n",
    "            "
   ]
  },
  {
   "cell_type": "code",
   "execution_count": 16,
   "metadata": {},
   "outputs": [],
   "source": [
    "#convert all images from source_dir to JPEG and save in save_dir\n",
    "def conv2JPEG(source_dir, save_dir):\n",
    "    if (source_dir == save_dir):\n",
    "        raise Error\n",
    "    if not os.path.isdir(save_dir):\n",
    "        os.mkdir(save_dir)\n",
    "    for image in os.listdir(source_dir):\n",
    "        image_path = os.path.join(source_dir, image)\n",
    "        save_image_path = os.path.join(save_dir, image)\n",
    "        if \".png\" in image or \".jpg\" in image:\n",
    "            ima = Image.open(image_path)\n",
    "            rgb_im = ima.convert('RGB')\n",
    "            rgb_im.save(save_image_path[:-3] + 'jpeg')\n",
    "            os.remove(image_path)\n",
    "            "
   ]
  },
  {
   "cell_type": "code",
   "execution_count": 18,
   "metadata": {},
   "outputs": [
    {
     "name": "stdout",
     "output_type": "stream",
     "text": [
      "data/NLM-MontgomeryCXRSet/CXR_png/Normal 73 data/NLM-MontgomeryCXRSet/master/Normal\n",
      "80\n",
      "data/NLM-MontgomeryCXRSet/CXR_png/TB 58 data/NLM-MontgomeryCXRSet/master/TB\n",
      "58\n",
      "data/ChinaSet_AllFiles/CXR_png/Normal 326 data/ChinaSet_AllFiles/master/Normal\n",
      "326\n",
      "data/ChinaSet_AllFiles/CXR_png/TB 336 data/ChinaSet_AllFiles/master/TB\n",
      "336\n"
     ]
    }
   ],
   "source": [
    "datasets=[\"data/NLM-MontgomeryCXRSet\", \"data/ChinaSet_AllFiles\"]\n",
    "disease_types=['Normal', \"TB\"]\n",
    "for dataset in datasets:\n",
    "    master_path = os.path.join(dataset, \"master\")\n",
    "    if not os.path.isdir(master_path):\n",
    "        os.mkdir(master_path)\n",
    "    for disease in disease_types:\n",
    "        source_path = os.path.join(dataset, \"CXR_png\", disease)\n",
    "        save_path = os.path.join(master_path,disease)\n",
    "        if not os.path.isdir(save_path):\n",
    "            os.mkdir(save_path)\n",
    "        print(source_path,len(os.listdir(source_path)), save_path)\n",
    "        conv2JPEG(source_path,save_path)\n",
    "        print(len(os.listdir(save_path)))\n",
    "        "
   ]
  },
  {
   "cell_type": "code",
   "execution_count": null,
   "metadata": {},
   "outputs": [],
   "source": []
  }
 ],
 "metadata": {
  "kernelspec": {
   "display_name": "Python 3",
   "language": "python",
   "name": "python3"
  },
  "language_info": {
   "codemirror_mode": {
    "name": "ipython",
    "version": 3
   },
   "file_extension": ".py",
   "mimetype": "text/x-python",
   "name": "python",
   "nbconvert_exporter": "python",
   "pygments_lexer": "ipython3",
   "version": "3.7.6"
  }
 },
 "nbformat": 4,
 "nbformat_minor": 2
}
